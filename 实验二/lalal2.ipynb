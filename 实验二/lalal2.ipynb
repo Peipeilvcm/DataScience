{
 "cells": [
  {
   "cell_type": "code",
   "execution_count": 2,
   "metadata": {
    "collapsed": true
   },
   "outputs": [],
   "source": [
    "%matplotlib inline\n",
    "import numpy as np\n",
    "import pandas as pd\n",
    "import matplotlib.pyplot as plt"
   ]
  },
  {
   "cell_type": "code",
   "execution_count": 3,
   "metadata": {},
   "outputs": [],
   "source": [
    "import os\n",
    "def get_one_csv(cvs_id, filepath):\n",
    "    file_path = os.getcwd()+'\\\\'+filepath+'\\\\'+str(cvs_id)+'.csv'\n",
    "    csv_data = pd.read_csv(open(file_path), usecols=[0,5],encoding='utf-8')\n",
    "    csv_data = np.array(csv_data)\n",
    "    return csv_data\n",
    "\n",
    "def get_valid_data(csv_id, filepath):\n",
    "    #找触电点步长\n",
    "    point_find_step = 1\n",
    "    threshold = 1.0\n",
    "    #for i in range(csv_id1,csv_id2):\n",
    "    Data = []\n",
    "    file_path = os.getcwd()+'\\\\'+filepath+'\\\\'+str(csv_id)+'.csv'\n",
    "    csv_data = pd.read_csv(open(file_path), usecols=[0,5],encoding='utf-8') \n",
    "    csv_data = np.array(csv_data)\n",
    "    left, right = 0, len(csv_data) - 1\n",
    "    while left < right:\n",
    "        if abs(csv_data[left,1]) > threshold:\n",
    "            break\n",
    "        left = left + point_find_step\n",
    "    while right > left:\n",
    "        if abs(csv_data[right,1]) > threshold:\n",
    "            break\n",
    "        right = right - point_find_step\n",
    "    Data.extend(csv_data[left:right+1])\n",
    "    Data = np.array(Data)\n",
    "    Data = Data.reshape(-1,2)\n",
    "    return Data\n",
    "\n",
    "def cal(Data):\n",
    "    mean = np.mean(Data, axis=0)\n",
    "    var = np.var(Data, axis=0)\n",
    "    return mean, var\n",
    "\n",
    "mean = []\n",
    "var = []\n",
    "xtype = []\n",
    "#兔子数据\n",
    "for i in range(131,191):\n",
    "    Data = get_one_csv(i, '兔子数据')\n",
    "    meantemp, vartemp = cal(Data[:,1])\n",
    "    mean.append(meantemp)\n",
    "    var.append(vartemp)\n",
    "    xtype.append(1)\n",
    "#小羊数据\n",
    "for i in range(359,410):\n",
    "    Data = get_one_csv(i, '小羊数据')\n",
    "    meantemp, vartemp = cal(Data[:,1])\n",
    "    mean.append(meantemp)\n",
    "    var.append(vartemp)\n",
    "    xtype.append(2)\n",
    "\n",
    "df = pd.DataFrame({'mean':mean, 'var':var, 'type':xtype})\n",
    "cols=['mean','var','type']\n",
    "#将DataFrame存储为csv,index表示是否显示行名，default=True\n",
    "df.to_csv(\"mean_and_var2.csv\",index=True,sep=',',columns=cols)"
   ]
  },
  {
   "cell_type": "code",
   "execution_count": 4,
   "metadata": {
    "collapsed": true
   },
   "outputs": [],
   "source": [
    "from sklearn.svm import SVC\n",
    "from sklearn.ensemble import RandomForestClassifier\n",
    "from sklearn.model_selection import train_test_split\n",
    "import random"
   ]
  },
  {
   "cell_type": "code",
   "execution_count": 5,
   "metadata": {},
   "outputs": [
    {
     "data": {
      "image/png": "[encoded data removed]",
      "text/plain": [
       "<matplotlib.figure.Figure at 0x1a62c2bad30>"
      ]
     },
     "metadata": {},
     "output_type": "display_data"
    }
   ],
   "source": [
    "X = np.zeros((len(mean), 2))\n",
    "X[:,0], X[:,1] = mean, var\n",
    "\n",
    "plt.scatter(X[:,0], X[:,1], c=xtype, s=20, cmap='spring')\n",
    "plt.xlabel(\"mean\")\n",
    "plt.ylabel(\"var\")\n",
    "X_train, X_test, y_train, y_test = train_test_split(X, xtype, test_size=0.3)"
   ]
  },
  {
   "cell_type": "code",
   "execution_count": 6,
   "metadata": {
    "collapsed": true
   },
   "outputs": [],
   "source": [
    "#线性归一化后,效果不好。\n",
    "#X_normal = (X - np.amin(X, axis=0))/(np.amax(X, axis=0)-np.amin(X, axis=0))\n",
    "# X_N_train, X_N_test, y_N_train, y_N_test = train_test_split(X_normal, xtype, test_size=0.3)\n",
    "# plt.scatter(X_normal[:,0], X_normal[:,1], c=xtype, s=20, cmap='spring')"
   ]
  },
  {
   "cell_type": "code",
   "execution_count": 7,
   "metadata": {},
   "outputs": [
    {
     "name": "stdout",
     "output_type": "stream",
     "text": [
      "train score = 0.935064935065\n",
      "test score = 0.705882352941\n",
      "y_test:  [2, 2, 2, 2, 1, 2, 1, 2, 2, 1, 2, 2, 2, 1, 2, 2, 1, 1, 2, 1, 1, 2, 1, 1, 1, 1, 1, 1, 2, 1, 2, 1, 1, 2]\n",
      "y_predict:  [1 2 2 1 2 2 1 2 1 1 1 1 2 1 2 1 1 1 1 1 1 2 1 1 1 1 1 2 2 1 1 1 1 2]\n"
     ]
    }
   ],
   "source": [
    "svc = SVC(kernel='rbf')\n",
    "svc.fit(X_train, y_train)\n",
    "print('train score =',svc.score(X_train, y_train))\n",
    "y_predict = svc.predict(X_test)\n",
    "print('test score =',svc.score(X_test, y_test))\n",
    "print('y_test: ',y_test)\n",
    "print('y_predict: ',y_predict)"
   ]
  },
  {
   "cell_type": "code",
   "execution_count": 8,
   "metadata": {},
   "outputs": [
    {
     "name": "stdout",
     "output_type": "stream",
     "text": [
      "train score = 1.0\n",
      "test score = 0.764705882353\n",
      "y_test:  [2, 2, 2, 2, 1, 2, 1, 2, 2, 1, 2, 2, 2, 1, 2, 2, 1, 1, 2, 1, 1, 2, 1, 1, 1, 1, 1, 1, 2, 1, 2, 1, 1, 2]\n",
      "y_predict:  [1 2 2 1 2 2 1 2 1 1 1 1 2 1 2 1 1 1 1 1 1 2 1 1 1 1 1 2 2 1 1 1 1 2]\n"
     ]
    }
   ],
   "source": [
    "rfc = RandomForestClassifier(n_estimators=20, criterion=\"entropy\")\n",
    "rfc.fit(X_train, y_train)\n",
    "print('train score =',rfc.score(X_train, y_train))\n",
    "y_predict = svc.predict(X_test)\n",
    "print('test score =',rfc.score(X_test, y_test))\n",
    "print('y_test: ',y_test)\n",
    "print('y_predict: ',y_predict)"
   ]
  },
  {
   "cell_type": "code",
   "execution_count": null,
   "metadata": {
    "collapsed": true
   },
   "outputs": [],
   "source": []
  }
 ],
 "metadata": {
  "kernelspec": {
   "display_name": "Python 3",
   "language": "python",
   "name": "python3"
  },
  "language_info": {
   "codemirror_mode": {
    "name": "ipython",
    "version": 3
   },
   "file_extension": ".py",
   "mimetype": "text/x-python",
   "name": "python",
   "nbconvert_exporter": "python",
   "pygments_lexer": "ipython3",
   "version": "3.6.6"
  }
 },
 "nbformat": 4,
 "nbformat_minor": 2
}
