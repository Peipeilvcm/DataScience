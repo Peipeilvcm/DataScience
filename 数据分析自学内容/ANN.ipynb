{
 "cells": [
  {
   "cell_type": "code",
   "execution_count": 1,
   "metadata": {},
   "outputs": [],
   "source": [
    "%matplotlib inline\n",
    "import numpy as np\n",
    "import matplotlib.pyplot as plt"
   ]
  },
  {
   "cell_type": "code",
   "execution_count": 2,
   "metadata": {},
   "outputs": [],
   "source": [
    "class NeuralNetwork(object):\n",
    "    def __init__(self):\n",
    "        #双层向前网络\n",
    "        #定义层的大小\n",
    "        self.inputLayerSize=2\n",
    "        self.outputLayerSize=1\n",
    "        self.hiddenLayerSize=3\n",
    "        \n",
    "        #定义权值Weights\n",
    "        #3x2,2x3,3x1\n",
    "        self.W1 = np.random.randn(self.inputLayerSize, self.hiddenLayerSize)\n",
    "        self.W2 = np.random.randn(self.hiddenLayerSize, self.outputLayerSize)\n",
    "        \n",
    "    #向前传播\n",
    "    def forwardPropagation(self, X):\n",
    "        #矩阵点乘\n",
    "        self.z2 = np.dot(X, self.W1)\n",
    "        #激励函数将输出非线性映射\n",
    "        self.a2 = self.sigmoid(self.z2)\n",
    "        self.z3 = np.dot(self.a2, self.W2)\n",
    "        yHat = self.sigmoid(self.z3)\n",
    "        return yHat\n",
    "\n",
    "    def sigmoid(self, z):\n",
    "        #可以应用于标量，向量，矩阵\n",
    "        return 1/(1+np.exp(-z))\n",
    "    \n",
    "    def sigmoidPrime(self, z):\n",
    "        #sigmoid梯度,导数\n",
    "        return np.exp(-z)/((1+np.exp(-z))**2)\n",
    "    \n",
    "    def costFunction(self, X, y):\n",
    "        yHat = self.forwardPropagation(X)\n",
    "        cost = 0.5*sum((y-yHat)**2)\n",
    "        return cost\n",
    "    \n",
    "    def costFunctionPrime(self, X, y):\n",
    "        #损失函数对于W1,W2的导数,逆向回馈时用到\n",
    "        yHat = self.forwardPropagation(X)\n",
    "#         print(len(X),len(X[0]))\n",
    "#         print(len(y),len(y[0]))\n",
    "        #总体损失对W1求偏导\n",
    "        delta3 = (-(y-yHat))*self.sigmoidPrime(self.z3)\n",
    "        dltW2 = np.dot(self.a2.T, delta3)\n",
    "\n",
    "        delta2 = np.dot(delta3, self.W2.T)*self.sigmoidPrime(self.z2)\n",
    "        dltW1 = np.dot(X.T, delta2)\n",
    "        \n",
    "        return dltW1,dltW2\n",
    "    \n",
    "    #其它类交互函数，Checking Gradient\n",
    "    def getParams(self):\n",
    "        params = np.concatenate((self.W1.ravel(),self.W2.ravel()))\n",
    "        return params\n",
    "    \n",
    "    def setParams(self, params):\n",
    "        #用单维向量params还原W1,W2\n",
    "        W1_start = 0\n",
    "        W1_end = self.inputLayerSize*self.hiddenLayerSize\n",
    "        #print(params[W1_start:W1_end])\n",
    "        self.W1 = np.reshape(params[W1_start:W1_end],(self.inputLayerSize,self.hiddenLayerSize))\n",
    "        W2_end = W1_end + self.hiddenLayerSize*self.outputLayerSize\n",
    "        #print(params[W1_end:W2_end])\n",
    "        self.W2 = np.reshape(params[W1_end:W2_end], (self.hiddenLayerSize, self.outputLayerSize))\n",
    "    \n",
    "    #计算逆向传播梯度\n",
    "    def computeGradients(self, X, y):\n",
    "        dltW1, dltW2 = self.costFunctionPrime(X, y)\n",
    "        return np.concatenate((dltW1.ravel(), dltW2.ravel()))\n",
    "\n",
    "def computeGradientsCheck(NNet, X, y):\n",
    "    params = NNet.getParams()\n",
    "    #print(params)\n",
    "    chkgrad = np.zeros(params.shape)\n",
    "    perturb = np.zeros(params.shape)\n",
    "    e = 1e-4\n",
    "    \n",
    "    for p in range(len(params)):\n",
    "        perturb[p] = e\n",
    "        NNet.setParams(params + perturb)\n",
    "        loss2 = NNet.costFunction(X, y)\n",
    "        \n",
    "        NNet.setParams(params - perturb)\n",
    "        loss1 = NNet.costFunction(X, y)\n",
    "        \n",
    "        chkgrad[p] = (loss2 - loss1) / (2*e)\n",
    "        perturb[p] = 0\n",
    "    \n",
    "    #print(params)\n",
    "    NNet.setParams(params)\n",
    "    return chkgrad"
   ]
  },
  {
   "cell_type": "code",
   "execution_count": 3,
   "metadata": {},
   "outputs": [
    {
     "name": "stdout",
     "output_type": "stream",
     "text": [
      "[[0.3 1. ]\n",
      " [0.5 0.2]\n",
      " [1.  0.4]]\n",
      "[[0.75]\n",
      " [0.82]\n",
      " [0.93]]\n",
      "[[0.55583226]\n",
      " [0.54360071]\n",
      " [0.53722707]]\n"
     ]
    },
    {
     "data": {
      "text/plain": [
       "<matplotlib.legend.Legend at 0x7f9671e82198>"
      ]
     },
     "execution_count": 3,
     "metadata": {},
     "output_type": "execute_result"
    },
    {
     "data": {
      "image/png": "[encoded data removed]",
      "text/plain": [
       "<Figure size 432x288 with 1 Axes>"
      ]
     },
     "metadata": {},
     "output_type": "display_data"
    }
   ],
   "source": [
    "# X = (hours sleeping, hours studying), y = Score on test\n",
    "X = np.array(([3,5], [5,1], [10,2]), dtype=float)\n",
    "y = np.array(([75], [82], [93]), dtype=float)\n",
    "\n",
    "#规范化，取每列最大值，axis=1时取每行最大值\n",
    "X = X/np.amax(X, axis = 0)\n",
    "y = y/100\n",
    "\n",
    "NN = NeuralNetwork()\n",
    "\n",
    "yHat = NN.forwardPropagation(X)\n",
    "print(X)\n",
    "print(y)\n",
    "print(yHat)\n",
    "\n",
    "#比较yHat与y\n",
    "plt.bar([0,1,2], y.reshape(3), width = 0.25, alpha=0.8)\n",
    "plt.bar([0.25,1.25,2.25],yHat.reshape(3), width = 0.25, color='r', alpha=0.8)\n",
    "plt.grid(1)\n",
    "plt.legend(['y', 'yHat'])"
   ]
  },
  {
   "cell_type": "code",
   "execution_count": 4,
   "metadata": {},
   "outputs": [
    {
     "name": "stdout",
     "output_type": "stream",
     "text": [
      "[[ 0.02195316 -0.03033617 -0.00649795]\n",
      " [ 0.0137355  -0.0196172  -0.00454408]]\n",
      "[[-0.15440027]\n",
      " [-0.12169655]\n",
      " [-0.17075437]]\n"
     ]
    }
   ],
   "source": [
    "cost1 = NN.costFunction(X,y)\n",
    "dltW1, dltW2 = NN.costFunctionPrime(X,y)\n",
    "print(dltW1)\n",
    "print(dltW2)"
   ]
  },
  {
   "cell_type": "code",
   "execution_count": 5,
   "metadata": {},
   "outputs": [
    {
     "name": "stdout",
     "output_type": "stream",
     "text": [
      "[0.13418413] [0.07535919] [0.04744146]\n"
     ]
    }
   ],
   "source": [
    "learning_rate = 1\n",
    "\n",
    "NN.W1 = NN.W1 - learning_rate*dltW1\n",
    "NN.W2 = NN.W2 - learning_rate*dltW2\n",
    "cost2 = NN.costFunction(X,y)\n",
    "\n",
    "dltW1, dltW2 = NN.costFunctionPrime(X,y)\n",
    "NN.W1 = NN.W1 - learning_rate*dltW1\n",
    "NN.W2 = NN.W2 - learning_rate*dltW2\n",
    "cost3 = NN.costFunction(X,y)\n",
    "\n",
    "print(cost1,cost2,cost3)"
   ]
  },
  {
   "cell_type": "code",
   "execution_count": 6,
   "metadata": {},
   "outputs": [],
   "source": [
    "from scipy import optimize"
   ]
  },
  {
   "cell_type": "code",
   "execution_count": 7,
   "metadata": {},
   "outputs": [],
   "source": [
    "class Trainer(object):\n",
    "    def __init__(self, NNet):\n",
    "        self.NNet = NNet\n",
    "    \n",
    "    def callbackFunc(self, params):\n",
    "        self.NNet.setParams(params)\n",
    "        self.J.append(self.NNet.costFunction(self.X, self.y))\n",
    "        \n",
    "    def costFunctionWrapper(self, params, X, y):\n",
    "        self.NNet.setParams(params)\n",
    "        cost = self.NNet.costFunction(X, y)\n",
    "        grad = self.NNet.computeGradients(X, y)\n",
    "        \n",
    "        return cost, grad\n",
    "    \n",
    "    def train(self, X, y):\n",
    "        self.X = X\n",
    "        self.y = y\n",
    "        #列表存放每次向前传播损失\n",
    "        self.J = []\n",
    "        params0 = self.NNet.getParams()\n",
    "        #print(params0)\n",
    "        \n",
    "        #用scipy中optimize优化,BFGS拟牛顿法,params不断迭代更新\n",
    "        #最大迭代数maxiter,disp打印收敛信息\n",
    "        options = {'maxiter':200, 'disp':True}\n",
    "        _res = optimize.minimize(self.costFunctionWrapper, params0, \\\n",
    "                                jac=True, method='BFGS',\\\n",
    "                                args=(X,y), options=options,\\\n",
    "                                callback=self.callbackFunc)\n",
    "        self.NNet.setParams(_res.x)\n",
    "        self.optimizationResults = _res"
   ]
  },
  {
   "cell_type": "code",
   "execution_count": 8,
   "metadata": {},
   "outputs": [
    {
     "name": "stdout",
     "output_type": "stream",
     "text": [
      "Optimization terminated successfully.\n",
      "         Current function value: 0.000000\n",
      "         Iterations: 53\n",
      "         Function evaluations: 59\n",
      "         Gradient evaluations: 59\n",
      "      fun: 5.059233212214826e-10\n",
      " hess_inv: array([[  9900.25582743, -19569.55441654,   -916.69252921,\n",
      "          3574.17572617,  10528.64888502,   4130.85713312,\n",
      "          3698.10723801,   9694.17536308, -14105.81555919],\n",
      "       [-19569.55441654,  39117.77901298,   2067.69406365,\n",
      "         -7042.65847276, -21046.57843279,  -8293.4982463 ,\n",
      "         -7361.76328553, -19305.14942347,  28034.42386415],\n",
      "       [  -916.69252921,   2067.69406365,    251.79194966,\n",
      "          -317.828688  ,  -1113.87149584,   -446.62710476,\n",
      "          -380.8080673 ,   -988.33958523,   1388.85431683],\n",
      "       [  3574.17572617,  -7042.65847276,   -317.828688  ,\n",
      "          1292.72560257,   3788.99094414,   1484.21957524,\n",
      "          1332.82775077,   3492.89404771,  -5084.7335203 ],\n",
      "       [ 10528.64888502, -21046.57843279,  -1113.87149584,\n",
      "          3788.99094414,  11325.06701525,   4461.80965458,\n",
      "          3961.39358416,  10387.31918505, -15082.85755406],\n",
      "       [  4130.85713312,  -8293.4982463 ,   -446.62710476,\n",
      "          1484.21957524,   4461.80965458,   1771.8336917 ,\n",
      "          1551.54204541,   4081.10167667,  -5935.35351657],\n",
      "       [  3698.10723801,  -7361.76328553,   -380.8080673 ,\n",
      "          1332.82775077,   3961.39358416,   1551.54204541,\n",
      "          1393.46177634,   3642.6002719 ,  -5283.51679195],\n",
      "       [  9694.17536308, -19305.14942347,   -988.33958523,\n",
      "          3492.89404771,  10387.31918505,   4081.10167667,\n",
      "          3642.6002719 ,   9544.53618362, -13859.010911  ],\n",
      "       [-14105.81555919,  28034.42386415,   1388.85431683,\n",
      "         -5084.7335203 , -15082.85755406,  -5935.35351657,\n",
      "         -5283.51679195, -13859.010911  ,  20155.46812327]])\n",
      "      jac: array([ 5.92237702e-07,  4.87670839e-07, -3.26938680e-06,  8.32739732e-07,\n",
      "        1.23257145e-06, -4.22319101e-06, -1.08871620e-06, -3.66440036e-06,\n",
      "       -2.74232141e-06])\n",
      "  message: 'Optimization terminated successfully.'\n",
      "     nfev: 59\n",
      "      nit: 53\n",
      "     njev: 59\n",
      "   status: 0\n",
      "  success: True\n",
      "        x: array([-3.48882322,  9.05337304,  1.92377486, -0.10321755, -3.89223948,\n",
      "       -1.35816274, -1.69952035, -3.00040238,  7.05065811])\n"
     ]
    }
   ],
   "source": [
    "T = Trainer(NN)\n",
    "T.train(X,y)\n",
    "print(T.optimizationResults)"
   ]
  },
  {
   "cell_type": "code",
   "execution_count": 9,
   "metadata": {},
   "outputs": [
    {
     "data": {
      "text/plain": [
       "Text(0,0.5,'Cost')"
      ]
     },
     "execution_count": 9,
     "metadata": {},
     "output_type": "execute_result"
    },
    {
     "data": {
      "image/png": "[encoded data removed]",
      "text/plain": [
       "<Figure size 432x288 with 1 Axes>"
      ]
     },
     "metadata": {},
     "output_type": "display_data"
    }
   ],
   "source": [
    "plt.plot(T.J)\n",
    "plt.xlabel('Iterations')\n",
    "plt.ylabel('Cost')"
   ]
  },
  {
   "cell_type": "code",
   "execution_count": 23,
   "metadata": {},
   "outputs": [
    {
     "name": "stdout",
     "output_type": "stream",
     "text": [
      "Optimization terminated successfully.\n",
      "         Current function value: 0.864432\n",
      "         Iterations: 68\n",
      "         Function evaluations: 76\n",
      "         Gradient evaluations: 76\n",
      "      fun: 0.7815753526549407\n",
      " hess_inv: array([[ 7.73248945e+02,  4.03715471e-02,  5.41895666e-13,\n",
      "        -2.44986583e+02,  2.60867866e-02, -4.12465484e-05,\n",
      "         3.53868281e+05,  2.74648204e+01, -9.45524701e-15],\n",
      "       [ 4.03715471e-02,  1.00000246e+00,  8.92117129e-18,\n",
      "        -8.85168781e-03,  1.58984485e-06, -2.51373765e-09,\n",
      "         2.15662913e+01,  1.22437649e-03, -1.54835839e-19],\n",
      "       [ 5.41895666e-13,  8.92117129e-18,  1.00000000e+00,\n",
      "        -4.08378641e-13,  5.76453194e-18, -9.11539634e-21,\n",
      "         7.81971840e-11,  2.56996216e-14,  0.00000000e+00],\n",
      "       [-2.44986583e+02, -8.85168781e-03, -4.08378641e-13,\n",
      "         1.24018681e+02, -5.71966520e-03,  9.04365639e-06,\n",
      "        -7.75876528e+04, -1.03907721e+01,  7.13484125e-15],\n",
      "       [ 2.60867866e-02,  1.58984485e-06,  5.76453194e-18,\n",
      "        -5.71966520e-03,  1.00000103e+00, -1.62429664e-09,\n",
      "         1.39354456e+01,  7.91152056e-04, -1.00049205e-19],\n",
      "       [-4.12465484e-05, -2.51373765e-09, -9.11539634e-21,\n",
      "         9.04365639e-06, -1.62429664e-09,  1.00000000e+00,\n",
      "        -2.20336308e-02, -1.25090256e-06,  1.58206942e-22],\n",
      "       [ 3.53868281e+05,  2.15662913e+01,  7.81971840e-11,\n",
      "        -7.75876528e+04,  1.39354456e+01, -2.20336308e-02,\n",
      "         1.89034724e+08,  1.07320170e+04, -1.35719030e-12],\n",
      "       [ 2.74648204e+01,  1.22437649e-03,  2.56996216e-14,\n",
      "        -1.03907721e+01,  7.91152056e-04, -1.25090256e-06,\n",
      "         1.07320170e+04,  1.52676266e+00, -4.48521095e-16],\n",
      "       [-9.45524701e-15, -1.54835839e-19,  0.00000000e+00,\n",
      "         7.13484125e-15, -1.00049205e-19,  1.58206942e-22,\n",
      "        -1.35719030e-12, -4.48521095e-16,  1.00000000e+00]])\n",
      "      jac: array([-1.39158358e-06,  9.97656090e-13, -5.04639663e-16, -2.17113020e-06,\n",
      "        4.55267605e-13, -6.98228463e-16,  1.96840546e-09, -2.12336599e-07,\n",
      "        8.72264081e-18])\n",
      "  message: 'Optimization terminated successfully.'\n",
      "     nfev: 59\n",
      "      nit: 52\n",
      "     njev: 59\n",
      "   status: 0\n",
      "  success: True\n",
      "        x: array([-1.49292317e+01,  2.21642931e+01, -1.87410483e+02,  5.66161728e+00,\n",
      "        1.51023825e+01,  1.07309785e+02, -1.01836125e+03,  4.10061467e-01,\n",
      "       -8.03945010e+01])\n"
     ]
    }
   ],
   "source": [
    "from sklearn.datasets import load_iris\n",
    "import pandas as pd\n",
    "from sklearn.model_selection import train_test_split\n",
    "#生成数据\n",
    "def create_data():\n",
    "    iris = load_iris()\n",
    "    df = pd.DataFrame(iris.data, columns = iris.feature_names)\n",
    "    df['label'] = iris.target\n",
    "    df.columns = ['sepal length', 'sepal width', 'petal length', 'petal width', 'label']\n",
    "    #取前100行数据，第0、1、-1列\n",
    "    data = np.array(df.iloc[:, [0, 1, -1]])\n",
    "    return data[:,:2],data[:,-1]\n",
    "\n",
    "X2, y2 = create_data()\n",
    "X_train, X_test, y_train, y_test = train_test_split(X2, y2, test_size=0.3)\n",
    "\n",
    "#print(X_train)\n",
    "# print(len(X_train),len(X_train[0]))\n",
    "# print(y_train)\n",
    "#规范化，取每列最大值，axis=1时取每行最大值\n",
    "X_train = X_train/np.amax(X_train, axis = 0)\n",
    "y_train = y_train/3\n",
    "\n",
    "NN2 = NeuralNetwork()\n",
    "T2 = Trainer(NN2)\n",
    "T2.train(X_train,y_train.reshape(105,1))\n",
    "print(T.optimizationResults)"
   ]
  },
  {
   "cell_type": "code",
   "execution_count": null,
   "metadata": {},
   "outputs": [],
   "source": []
  },
  {
   "cell_type": "code",
   "execution_count": 26,
   "metadata": {},
   "outputs": [
    {
     "name": "stdout",
     "output_type": "stream",
     "text": [
      "[[0.54612473]\n",
      " [0.54612473]\n",
      " [0.54612473]\n",
      " [0.54612473]\n",
      " [0.54612473]\n",
      " [0.54612473]\n",
      " [0.54612473]\n",
      " [0.54612473]\n",
      " [0.54612473]\n",
      " [0.54612473]\n",
      " [0.54612473]\n",
      " [0.54612473]\n",
      " [0.54612473]\n",
      " [0.54612473]\n",
      " [0.54612473]\n",
      " [0.54612473]\n",
      " [0.54612473]\n",
      " [0.54612473]\n",
      " [0.54612473]\n",
      " [0.54612473]\n",
      " [0.54612473]\n",
      " [0.54612473]\n",
      " [0.54612473]\n",
      " [0.54612473]\n",
      " [0.54612473]\n",
      " [0.54612473]\n",
      " [0.54612473]\n",
      " [0.54612473]\n",
      " [0.54612473]\n",
      " [0.54612473]\n",
      " [0.54612473]\n",
      " [0.54612473]\n",
      " [0.54612473]\n",
      " [0.54612473]\n",
      " [0.54612473]\n",
      " [0.54612473]\n",
      " [0.54612473]\n",
      " [0.54612473]\n",
      " [0.54612473]\n",
      " [0.54612473]\n",
      " [0.54612473]\n",
      " [0.54612473]\n",
      " [0.54612473]\n",
      " [0.54612473]\n",
      " [0.54612473]\n",
      " [0.54612473]\n",
      " [0.54612473]\n",
      " [0.54612473]\n",
      " [0.54612473]\n",
      " [0.54612473]\n",
      " [0.54612473]\n",
      " [0.54612473]\n",
      " [0.54612473]\n",
      " [0.54612473]\n",
      " [0.54612473]\n",
      " [0.54612473]\n",
      " [0.54612473]\n",
      " [0.54612473]\n",
      " [0.54612473]\n",
      " [0.54612473]\n",
      " [0.54612473]\n",
      " [0.54612473]\n",
      " [0.54612473]\n",
      " [0.54612473]\n",
      " [0.54612473]\n",
      " [0.54612473]\n",
      " [0.54612473]\n",
      " [0.54612473]\n",
      " [0.54612473]\n",
      " [0.54612473]\n",
      " [0.54612473]\n",
      " [0.54612473]\n",
      " [0.54612473]\n",
      " [0.54612473]\n",
      " [0.54612473]\n",
      " [0.54612473]\n",
      " [0.54612473]\n",
      " [0.54612473]\n",
      " [0.54612473]\n",
      " [0.54612473]\n",
      " [0.54612473]\n",
      " [0.54612473]\n",
      " [0.54612473]\n",
      " [0.54612473]\n",
      " [0.54612473]\n",
      " [0.54612473]\n",
      " [0.54612473]\n",
      " [0.54612473]\n",
      " [0.54612473]\n",
      " [0.54612473]\n",
      " [0.54612473]\n",
      " [0.54612473]\n",
      " [0.54612473]\n",
      " [0.54612473]\n",
      " [0.54612473]\n",
      " [0.54612473]\n",
      " [0.54612473]\n",
      " [0.54612473]\n",
      " [0.54612473]\n",
      " [0.54612473]\n",
      " [0.54612473]\n",
      " [0.54612473]\n",
      " [0.54612473]\n",
      " [0.54612473]\n",
      " [0.54612473]]\n"
     ]
    },
    {
     "data": {
      "text/plain": [
       "[<matplotlib.lines.Line2D at 0x7f96611d01d0>]"
      ]
     },
     "execution_count": 26,
     "metadata": {},
     "output_type": "execute_result"
    },
    {
     "data": {
      "image/png": "[encoded data removed]",
      "text/plain": [
       "<Figure size 432x288 with 1 Axes>"
      ]
     },
     "metadata": {},
     "output_type": "display_data"
    }
   ],
   "source": [
    "# X_test = X_train/np.amax(X_test, axis = 0)\n",
    "print(NN2.forwardPropagation(X_test))\n",
    "plt.plot(T2.J)"
   ]
  },
  {
   "cell_type": "code",
   "execution_count": null,
   "metadata": {},
   "outputs": [],
   "source": []
  }
 ],
 "metadata": {
  "kernelspec": {
   "display_name": "Python 3",
   "language": "python",
   "name": "python3"
  },
  "language_info": {
   "codemirror_mode": {
    "name": "ipython",
    "version": 3
   },
   "file_extension": ".py",
   "mimetype": "text/x-python",
   "name": "python",
   "nbconvert_exporter": "python",
   "pygments_lexer": "ipython3",
   "version": "3.6.1"
  }
 },
 "nbformat": 4,
 "nbformat_minor": 2
}
