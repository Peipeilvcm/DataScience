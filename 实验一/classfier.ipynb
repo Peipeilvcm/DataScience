{
 "cells": [
  {
   "cell_type": "code",
   "execution_count": 2,
   "metadata": {
    "collapsed": true
   },
   "outputs": [],
   "source": [
    "%matplotlib inline\n",
    "import numpy as np\n",
    "import pandas as pd\n",
    "import matplotlib.pyplot as plt\n",
    "\n",
    "from sklearn.svm import SVR\n",
    "from sklearn.linear_model import LinearRegression\n",
    "from sklearn.svm import SVC\n",
    "from sklearn.linear_model import LogisticRegression\n",
    "from sklearn.ensemble import RandomForestClassifier\n",
    "from sklearn.ensemble import AdaBoostClassifier\n",
    "from sklearn.model_selection import train_test_split\n",
    "import random\n",
    "import time"
   ]
  },
  {
   "cell_type": "code",
   "execution_count": 3,
   "metadata": {
    "collapsed": true
   },
   "outputs": [],
   "source": [
    "#找到触电点之后的数据为训练数据\n",
    "import os\n",
    "def create_data(csv_id1, csv_id2, filepath):\n",
    "    Data_train = []\n",
    "    #找触电点步长\n",
    "    point_find_step = 10\n",
    "    threshold = 1.0\n",
    "    for i in range(csv_id1,csv_id2):\n",
    "        file_path = os.getcwd()+'\\\\'+filepath+'\\\\'+str(i)+'.csv'\n",
    "        csv_data = pd.read_csv(open(file_path), usecols=[1,2,5,6],encoding='utf-8') \n",
    "        csv_data = np.array(csv_data)\n",
    "    #从触电点开始判断,找到大概开始变化的位置前\n",
    "        left, right = 0, len(csv_data) - 1\n",
    "        while left < right:\n",
    "            if abs(csv_data[left,1]) > threshold:\n",
    "                break\n",
    "            left = left + point_find_step\n",
    "        while right > left:\n",
    "            if abs(csv_data[right,1]) > threshold:\n",
    "                break\n",
    "            right = right - point_find_step\n",
    "        if left > 0:\n",
    "            left = left - point_find_step//2\n",
    "        if right < len(csv_data) - 1:\n",
    "            left = left + point_find_step//2\n",
    "        Data_train.extend(csv_data[left:right+1])\n",
    "    Data_train = np.array(Data_train)\n",
    "#     print('len_data =',len(Data_train))\n",
    "    Data_train = Data_train.reshape(-1,4)\n",
    "    return Data_train\n",
    "\n",
    "def create_animal(csv_id1, csv_id2):\n",
    "    Data_train = []\n",
    "    #找触电点步长\n",
    "    point_find_step = 10\n",
    "    threshold = 2.0\n",
    "    for i in range(csv_id1,csv_id2):\n",
    "        file_path = os.getcwd()+'\\\\animal\\\\'+str(i)+'.csv'\n",
    "        csv_data = pd.read_csv(open(file_path), usecols=[1,2,5,6],encoding='utf-8') \n",
    "        csv_data = np.array(csv_data)\n",
    "    #从触电点开始判断,找到大概开始变化的位置前\n",
    "        left, right = 0, len(csv_data) - 1\n",
    "        while left < right:\n",
    "            if abs(csv_data[left,2]) > threshold:\n",
    "                break\n",
    "            left = left + point_find_step\n",
    "        while right > left:\n",
    "            if abs(csv_data[right,2]) > threshold:\n",
    "                break\n",
    "            right = right - point_find_step\n",
    "        if left > 0:\n",
    "            left = left - point_find_step//2\n",
    "        if right < len(csv_data) - 1:\n",
    "            left = left + point_find_step//2\n",
    "        Data_train.extend(csv_data[left:right+1])\n",
    "    Data_train = np.array(Data_train)\n",
    "#     print('len_data =',len(Data_train))\n",
    "    Data_train = Data_train.reshape(-1,4)\n",
    "    return Data_train\n",
    "\n",
    "def estimator_feature(estimator, X, Y, isNormalized = 0):\n",
    "#     print(len(X))\n",
    "    if isNormalized != 0: \n",
    "        #数据归一化处理,线性归一化\n",
    "        X = (X - np.amin(X, axis=0))/(np.amax(X, axis=0)-np.amin(X, axis=0))\n",
    "    X_train, X_test, y_train, y_test = train_test_split(X,Y, test_size=0.3)\n",
    "    estimator.fit(X_train.reshape(-1,1),y_train)\n",
    "    y_predict = estimator.predict(X_test.reshape(-1,1))\n",
    "    #计算平均损失\n",
    "    cost = 5000*sum((y_predict - y_test)**2)/len(X_test)\n",
    "    score = estimator.score(X_test.reshape(-1,1), y_test)\n",
    "    X_max = np.max(X)\n",
    "    X_min = np.min(X)\n",
    "    Y_max = np.max(Y)\n",
    "    Y_min = np.min(Y)\n",
    "    return [X_max,X_min,Y_max,Y_min,cost,score]\n",
    "\n",
    "def get_feature():\n",
    "    Data1 = []\n",
    "    for i in range(1, 66):\n",
    "        X = create_data(i,i+1,'plants')\n",
    "        if len(X)==0:\n",
    "            continue\n",
    "        lr = LinearRegression()\n",
    "        feature = estimator_feature(lr,X[:,3],X[:,2],0)\n",
    "        Data1.append(feature)\n",
    "    y1 = [1 for x in range(len(Data1))]\n",
    "    print(len(Data1),len(y1))\n",
    "    \n",
    "    Data2 = []\n",
    "    for i in range(1, 101):\n",
    "        X = create_data(i,i+1,'indirect')\n",
    "        if len(X)==0:\n",
    "            continue\n",
    "        lr = LinearRegression()\n",
    "        feature = estimator_feature(lr,X[:,3],X[:,2],0)\n",
    "        Data2.append(feature)\n",
    "    y2 = [2 for x in range(len(Data2))]\n",
    "    print(len(Data2),len(y2))\n",
    "    \n",
    "    Data3 = []\n",
    "    for i in range(1, 76):\n",
    "        X = create_animal(i,i+1)\n",
    "        if len(X)==0:\n",
    "            continue\n",
    "        lr = LinearRegression()\n",
    "        feature = estimator_feature(lr,X[:,3],X[:,2],0)\n",
    "        Data3.append(feature)\n",
    "    y3 = [3 for x in range(len(Data3))]\n",
    "    print(len(Data3),len(y3))\n",
    "    \n",
    "    Data = Data1+Data2+Data3\n",
    "    y = y1+y2+y3\n",
    "    Data = np.array(Data)\n",
    "    y = np.array(y)\n",
    "    \n",
    "    return Data,y"
   ]
  },
  {
   "cell_type": "code",
   "execution_count": 4,
   "metadata": {},
   "outputs": [
    {
     "data": {
      "text/plain": [
       "<matplotlib.legend.Legend at 0x1cac87e24a8>"
      ]
     },
     "execution_count": 4,
     "metadata": {},
     "output_type": "execute_result"
    },
    {
     "data": {
      "image/png": "[encoded data removed]",
      "text/plain": [
       "<matplotlib.figure.Figure at 0x1cacd06cb00>"
      ]
     },
     "metadata": {},
     "output_type": "display_data"
    }
   ],
   "source": [
    "X1=create_data(1,2,'plants')\n",
    "X2=create_data(1,2,'indirect')\n",
    "X3=create_animal(1,2)\n",
    "plt.plot(X1[:,3],X1[:,2],label='plants')\n",
    "plt.plot(X2[:,3],X2[:,2],label='indirect')\n",
    "plt.legend()\n",
    "# plt.plot(X3[:,3],X3[:,2],label='animal')"
   ]
  },
  {
   "cell_type": "code",
   "execution_count": 27,
   "metadata": {},
   "outputs": [
    {
     "name": "stdout",
     "output_type": "stream",
     "text": [
      "64 64\n",
      "100 100\n",
      "75 75\n",
      "239 239\n"
     ]
    }
   ],
   "source": [
    "X, y = get_feature()\n",
    "print(len(X),len(y))\n",
    "\n",
    "classfier = {1:'plants',2:'indirect',3:'animal'}"
   ]
  },
  {
   "cell_type": "code",
   "execution_count": 24,
   "metadata": {},
   "outputs": [
    {
     "name": "stdout",
     "output_type": "stream",
     "text": [
      "1.0\n"
     ]
    }
   ],
   "source": [
    "# X_train, X_test, y_train, y_test = train_test_split(X, y, test_size=0.3, random_state=1337)\n",
    "clf = RandomForestClassifier(n_estimators=100,criterion='entropy',random_state=1337)\n",
    "clf.fit(X,y)\n",
    "print(clf.score(X,y))"
   ]
  },
  {
   "cell_type": "code",
   "execution_count": 25,
   "metadata": {},
   "outputs": [
    {
     "name": "stdout",
     "output_type": "stream",
     "text": [
      "[1 2 1 1 1 2 1 1 1 1]\n",
      "[2 2 2 2 2 1 2 2 2 2 2 2 1 2 1 2 2 1 1 2]\n",
      "[3 3 3 3 3 3 3 3 3 3]\n"
     ]
    }
   ],
   "source": [
    "Data1 = []\n",
    "for i in range(66, 76):\n",
    "    X = create_data(i,i+1,'plants')\n",
    "    if len(X)==0:\n",
    "        continue\n",
    "    lr = LinearRegression()\n",
    "    feature = estimator_feature(lr,X[:,3],X[:,2],0)\n",
    "    Data1.append(feature)\n",
    "Data1 = np.array(Data1)\n",
    "y = clf.predict(Data1.reshape(-1,6))\n",
    "print(y)\n",
    "\n",
    "Data2 = []\n",
    "for i in range(101, 121):\n",
    "    X = create_data(i,i+1,'indirect')\n",
    "    if len(X)==0:\n",
    "        continue\n",
    "    lr = LinearRegression()\n",
    "    feature = estimator_feature(lr,X[:,3],X[:,2],0)\n",
    "    Data2.append(feature)\n",
    "Data2 = np.array(Data2)\n",
    "y = clf.predict(Data2.reshape(-1,6))\n",
    "print(y)\n",
    "\n",
    "Data3 = []\n",
    "for i in range(76, 86):\n",
    "    X = create_animal(i,i+1)\n",
    "    if len(X)==0:\n",
    "        continue\n",
    "    lr = LinearRegression()\n",
    "    feature = estimator_feature(lr,X[:,3],X[:,2],0)\n",
    "    Data3.append(feature)\n",
    "Data3 = np.array(Data3)\n",
    "y = clf.predict(Data3.reshape(-1,6))\n",
    "print(y)"
   ]
  },
  {
   "cell_type": "code",
   "execution_count": 28,
   "metadata": {},
   "outputs": [
    {
     "name": "stdout",
     "output_type": "stream",
     "text": [
      "0.811715481172\n"
     ]
    }
   ],
   "source": [
    "ada_clf = AdaBoostClassifier()\n",
    "ada_clf.fit(X,y)\n",
    "print(ada_clf.score(X,y))"
   ]
  },
  {
   "cell_type": "code",
   "execution_count": 29,
   "metadata": {},
   "outputs": [
    {
     "name": "stdout",
     "output_type": "stream",
     "text": [
      "[1, 1, 1, 1, 1, 1, 1, 1, 1, 1]\n",
      "[2, 2, 2, 2, 2, 1, 1, 1, 1, 1, 1, 1, 1, 1, 1, 1, 1, 1, 1, 1]\n",
      "[3, 3, 3, 3, 3, 3, 3, 3, 3, 3]\n"
     ]
    }
   ],
   "source": [
    "res = []\n",
    "for i in range(66, 76):\n",
    "    X = create_data(i,i+1,'plants')\n",
    "    if len(X)==0:\n",
    "        continue\n",
    "    lr = LinearRegression()\n",
    "    feature = estimator_feature(lr,X[:,3],X[:,2],0)\n",
    "    feature = np.array(feature)\n",
    "    y = ada_clf.predict(feature.reshape(-1,6))\n",
    "    res.extend(y)\n",
    "print(res)\n",
    "\n",
    "res = []\n",
    "for i in range(101, 121):\n",
    "    X = create_data(i,i+1,'indirect')\n",
    "    if len(X)==0:\n",
    "        continue\n",
    "    lr = LinearRegression()\n",
    "    feature = estimator_feature(lr,X[:,3],X[:,2],0)\n",
    "    feature = np.array(feature)\n",
    "    y = ada_clf.predict(feature.reshape(-1,6))\n",
    "    res.extend(y)\n",
    "print(res)\n",
    "\n",
    "res = []\n",
    "for i in range(76, 86):\n",
    "    X = create_animal(i,i+1)\n",
    "    if len(X)==0:\n",
    "        continue\n",
    "    lr = LinearRegression()\n",
    "    feature = estimator_feature(lr,X[:,3],X[:,2],0)\n",
    "    feature = np.array(feature)\n",
    "    y = ada_clf.predict(feature.reshape(-1,6))\n",
    "    res.extend(y)\n",
    "print(res)"
   ]
  },
  {
   "cell_type": "code",
   "execution_count": null,
   "metadata": {
    "collapsed": true
   },
   "outputs": [],
   "source": []
  }
 ],
 "metadata": {
  "kernelspec": {
   "display_name": "Python 3",
   "language": "python",
   "name": "python3"
  },
  "language_info": {
   "codemirror_mode": {
    "name": "ipython",
    "version": 3
   },
   "file_extension": ".py",
   "mimetype": "text/x-python",
   "name": "python",
   "nbconvert_exporter": "python",
   "pygments_lexer": "ipython3",
   "version": "3.6.6"
  }
 },
 "nbformat": 4,
 "nbformat_minor": 2
}
